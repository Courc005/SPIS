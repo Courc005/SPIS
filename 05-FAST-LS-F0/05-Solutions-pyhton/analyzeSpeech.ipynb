{
 "cells": [
  {
   "cell_type": "code",
   "execution_count": 9,
   "metadata": {},
   "outputs": [],
   "source": [
    "import sys\n",
    "from scipy.io import wavfile\n",
    "import numpy as np\n",
    "import scipy as sp\n",
    "import scipy.signal as signal\n",
    "import matplotlib.pyplot as plt\n"
   ]
  },
  {
   "cell_type": "code",
   "execution_count": 10,
   "metadata": {},
   "outputs": [
    {
     "ename": "ImportError",
     "evalue": "dlopen(/Users/cer/vc/SPIS/SPIS-24/05-FAST-LS-F0/05-Solutions-pyhton/single_pitch.so, 0x0002): tried: '/Users/cer/vc/SPIS/SPIS-24/05-FAST-LS-F0/05-Solutions-pyhton/single_pitch.so' (not a mach-o file), '/System/Volumes/Preboot/Cryptexes/OS/Users/cer/vc/SPIS/SPIS-24/05-FAST-LS-F0/05-Solutions-pyhton/single_pitch.so' (no such file), '/Users/cer/vc/SPIS/SPIS-24/05-FAST-LS-F0/05-Solutions-pyhton/single_pitch.so' (not a mach-o file)",
     "output_type": "error",
     "traceback": [
      "\u001b[0;31m---------------------------------------------------------------------------\u001b[0m",
      "\u001b[0;31mImportError\u001b[0m                               Traceback (most recent call last)",
      "Cell \u001b[0;32mIn[10], line 1\u001b[0m\n\u001b[0;32m----> 1\u001b[0m \u001b[38;5;28;01mimport\u001b[39;00m \u001b[38;5;21;01msingle_pitch\u001b[39;00m\n",
      "\u001b[0;31mImportError\u001b[0m: dlopen(/Users/cer/vc/SPIS/SPIS-24/05-FAST-LS-F0/05-Solutions-pyhton/single_pitch.so, 0x0002): tried: '/Users/cer/vc/SPIS/SPIS-24/05-FAST-LS-F0/05-Solutions-pyhton/single_pitch.so' (not a mach-o file), '/System/Volumes/Preboot/Cryptexes/OS/Users/cer/vc/SPIS/SPIS-24/05-FAST-LS-F0/05-Solutions-pyhton/single_pitch.so' (no such file), '/Users/cer/vc/SPIS/SPIS-24/05-FAST-LS-F0/05-Solutions-pyhton/single_pitch.so' (not a mach-o file)"
     ]
    }
   ],
   "source": [
    "import single_pitch"
   ]
  },
  {
   "cell_type": "code",
   "execution_count": null,
   "metadata": {},
   "outputs": [],
   "source": [
    "\n",
    "[samplingFreq, speechSignal] = wavfile.read('roy.wav')\n",
    "nData = speechSignal.shape[0]\n",
    "\n",
    "# set up\n",
    "segmentTime = 0.025 # seconds\n",
    "segmentLength = round(segmentTime*samplingFreq) # samples\n",
    "nSegments = int(np.floor(nData/segmentLength))\n",
    "f0Bounds = np.array([80, 400])/samplingFreq\n",
    "maxNoHarmonics = 15\n",
    "f0Estimator = single_pitch.single_pitch(segmentLength, maxNoHarmonics, f0Bounds)\n",
    "\n",
    "# do the analysis\n",
    "idx = np.array(range(0, segmentLength))\n",
    "f0Estimates = np.zeros((nSegments,)) # cycles/sample\n",
    "for ii in range(nSegments):\n",
    "    speechSegment = np.array(speechSignal[idx], dtype=np.float64)\n",
    "    f0Estimates[ii] = (samplingFreq/(2*np.pi))*f0Estimator.est(speechSegment)\n",
    "    idx = idx + segmentLength\n",
    "\n",
    "timeVector = np.array(range(1, nSegments+1))*segmentTime-segmentTime/2\n",
    "\n",
    "# compute the spectrogram of the signal\n",
    "nOverlap = round(3*segmentLength/4)\n",
    "[stftFreqVector, stftTimeVector, stft] = signal.spectrogram(speechSignal,\n",
    "                                                            fs=samplingFreq,\n",
    "                                                            nperseg=segmentLength,\n",
    "                                                            noverlap=nOverlap, nfft=2048)\n",
    "powerSpectrum = np.abs(stft)**2;\n",
    "\n",
    "# plot the results\n",
    "maxDynamicRange = 60 # dB\n",
    "plt.pcolormesh(stftTimeVector, stftFreqVector, 10*np.log10(powerSpectrum))\n",
    "plt.scatter(timeVector, f0Estimates, c='b', s=20)\n",
    "plt.title('Why where you away a year, Roy?')\n",
    "plt.xlabel('time [s]')\n",
    "plt.ylabel('frequency [Hz]')\n",
    "plt.show()\n"
   ]
  }
 ],
 "metadata": {
  "kernelspec": {
   "display_name": "torch-nightly",
   "language": "python",
   "name": "python3"
  },
  "language_info": {
   "codemirror_mode": {
    "name": "ipython",
    "version": 3
   },
   "file_extension": ".py",
   "mimetype": "text/x-python",
   "name": "python",
   "nbconvert_exporter": "python",
   "pygments_lexer": "ipython3",
   "version": "3.10.10"
  }
 },
 "nbformat": 4,
 "nbformat_minor": 2
}
